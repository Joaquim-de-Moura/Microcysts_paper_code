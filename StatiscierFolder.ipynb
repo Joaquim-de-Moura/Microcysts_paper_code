{
 "cells": [
  {
   "cell_type": "code",
   "execution_count": 1,
   "metadata": {},
   "outputs": [],
   "source": [
    "from torchvision.models import densenet161\n",
    "from torch import nn\n",
    "import numpy as np\n",
    "from PIL import Image\n",
    "from utilmaps import *\n",
    "import os, sys, cv2, torch, json, shutil\n",
    "from matplotlib import cm\n",
    "import scipy as sp\n",
    "import scipy.ndimage\n",
    "from util_storage import *\n",
    "\n",
    "    \n",
    "from scipy.ndimage import label, generate_binary_structure\n"
   ]
  },
  {
   "cell_type": "code",
   "execution_count": 2,
   "metadata": {},
   "outputs": [],
   "source": [
    "dataset_folder = './dataset/'"
   ]
  },
  {
   "cell_type": "code",
   "execution_count": 3,
   "metadata": {},
   "outputs": [],
   "source": [
    "def loadMask(path, size_limit=None):\n",
    "    with Image.open(path) as im:\n",
    "        mask = np.array(im.convert('1')).astype(bool)\n",
    "        \n",
    "        if __name__=='__main__':\n",
    "            fig, axs = plt.subplots(1, 2)\n",
    "            axs[0].imshow(mask)\n",
    "            \n",
    "        if size_limit is not None:\n",
    "            s = generate_binary_structure(2,2)\n",
    "            label_structures, num_features = label(mask, s)\n",
    "\n",
    "            for connected_component_id in [x+1 for x in range(num_features)]:\n",
    "                current_component = label_structures == connected_component_id\n",
    "\n",
    "                if np.nansum(current_component) > size_limit:\n",
    "                    mask[current_component] = False\n",
    "    return mask\n",
    "\n",
    "def assignLabel(mapi,mask):\n",
    "    results = []\n",
    "    \n",
    "    s = generate_binary_structure(2,2)\n",
    "    label_structures, num_features = label(mask, s)\n",
    "\n",
    "    for connected_component_id in [x+1 for x in range(num_features)]:\n",
    "        current_component = label_structures == connected_component_id\n",
    "       \n",
    "        current_component_map = current_component * mapi\n",
    "        \n",
    "        # Per pixel confidence\n",
    "        proportion = float(np.nansum(current_component_map)/ np.nansum(current_component))\n",
    "        results.append((int(np.nansum(current_component)),proportion))\n",
    "    return results\n",
    "\n",
    "def generateMap(image_name, image_mask):\n",
    "    device = torch.device(\"cuda:0\" if torch.cuda.is_available() else \"cpu\") \n",
    "    jet_cmap = cm.get_cmap('jet')\n",
    "\n",
    "    try:\n",
    "        image_original =  np.array(Image.open(image_name))[:,:,0].astype(float)/255\n",
    "    except:\n",
    "        image_original =  np.array(Image.open(image_name)).astype(float)/255\n",
    "\n",
    "    image_mask = np.array(Image.open(image_mask).convert('L')).astype(bool)    \n",
    "    \n",
    "    # FASE 1\n",
    "    model = densenet161()\n",
    "    model.classifier = nn.Linear(model.classifier.in_features, 2)\n",
    "    model.load_state_dict(torch.load('model_64.pt',map_location=torch.device('cpu')))\n",
    "    model = model.to(device)\n",
    "    builder = MapBuilder(model,64,55,model_input_size=224,batch_size=500)\n",
    "\n",
    "    roi_mask_beforeth = builder.generateMap(image_original,image_mask)*image_mask\n",
    "    \n",
    "    th = 0.5\n",
    " \n",
    "    roi_mask = roi_mask_beforeth > th\n",
    "    builder.batch_size = 4000\n",
    "    del model\n",
    "    torch.cuda.empty_cache()\n",
    "    \n",
    "    # FASE 2\n",
    "    model = densenet161()\n",
    "    model.classifier = nn.Linear(model.classifier.in_features, 2)\n",
    "    model.load_state_dict(torch.load('model_30.pt',map_location=torch.device('cpu')))\n",
    "    model = model.to(device)\n",
    "    \n",
    "    builder = MapBuilder(model,30,25,model_input_size=64)\n",
    "    microcyst_map = np.nan_to_num(builder.generateMap(image_original,roi_mask))\n",
    "    microcyst_map = sp.ndimage.filters.gaussian_filter(microcyst_map, 3, mode='constant')\n",
    "     \n",
    "    return roi_mask_beforeth, microcyst_map\n"
   ]
  },
  {
   "cell_type": "code",
   "execution_count": 4,
   "metadata": {},
   "outputs": [],
   "source": [
    "images_path = dataset_folder + 'ORIGINALS/'\n",
    "masks_path = dataset_folder + 'MASKS/'\n",
    "microcysts_path = dataset_folder + 'MICROCYSTS/'\n",
    "\n",
    "images_names = list(os.listdir(images_path))\n",
    "masks_names = list(os.listdir(masks_path))\n",
    "microcysts_names = list(os.listdir(microcysts_path))\n",
    "\n",
    "all_folds = loadObj('FOLD_DATA_FN_L_6V2T1')"
   ]
  },
  {
   "cell_type": "code",
   "execution_count": 5,
   "metadata": {},
   "outputs": [
    {
     "name": "stdout",
     "output_type": "stream",
     "text": [
      "0.0%\n"
     ]
    },
    {
     "name": "stderr",
     "output_type": "stream",
     "text": [
      "\n",
      "KeyboardInterrupt\n",
      "\n"
     ]
    },
    {
     "name": "stdout",
     "output_type": "stream",
     "text": [
      "Error in callback <function flush_figures at 0x7f380188cee0> (for post_execute):\n"
     ]
    },
    {
     "name": "stderr",
     "output_type": "stream",
     "text": [
      "\n",
      "KeyboardInterrupt\n",
      "\n"
     ]
    }
   ],
   "source": [
    "fold_stage = 'test'\n",
    "\n",
    "labels_macro = []\n",
    "labels_micro = []\n",
    "labels_micro_faux = []\n",
    "\n",
    "\n",
    "i=0.0\n",
    "for fold_data in all_folds:\n",
    "    print('{}%'.format(i/len(all_folds)))\n",
    "    i+=1\n",
    "    for image_name in fold_data[fold_stage]:\n",
    "            image_name = image_name.replace('dataset/','').replace('.npy','').replace('.png','').replace('png','.png').replace('tiff','.tiff').replace('tif','.tif').replace('bmp','.bmp').replace('jpg','.jpg').replace('jpeg','.jpeg')\n",
    "            image_path = images_path + image_name\n",
    "            mask_path = masks_path + image_name.replace('.','')+'.png'\n",
    "            microcyst_path = microcysts_path + image_name.replace('.','')+'.png'\n",
    "\n",
    "            map_stage1, map_stage2 = generateMap(image_path, mask_path)\n",
    "\n",
    "            # STAGE 1\n",
    "            fullmask = loadMask(microcyst_path)\n",
    "            labels_macro += assignLabel(map_stage1,fullmask)\n",
    "\n",
    "            # STAGE 2\n",
    "            micromask = loadMask(microcyst_path, size_limit = 900)\n",
    "            labels_micro += assignLabel(map_stage2,micromask)\n",
    "            \n",
    "            # STAGE 2 FAUX\n",
    "            labels_micro_faux += assignLabel(map_stage2,fullmask)\n",
    "\n",
    "            saveObj(labels_macro,'labels_macro')\n",
    "            saveObj(labels_micro,'labels_micro')\n",
    "            saveObj(labels_micro_faux,'labels_micro_faux')\n",
    "\n",
    "            if False:\n",
    "                print(labels_macro)\n",
    "                print(labels_micro)\n",
    "                print(np.nanmax(map_stage1))\n",
    "                print(np.nanmin(map_stage1))\n",
    "                print(np.nanmax(map_stage2))\n",
    "                print(np.nanmin(map_stage2))\n",
    "\n",
    "                plt.imshow(map_stage1)\n",
    "                plt.show()\n",
    "                plt.imshow(map_stage2)\n",
    "                plt.show()\n",
    "\n",
    "                plt.imshow(Image.open(image_path))\n",
    "                plt.show()\n",
    "                plt.imshow(Image.open(microcyst_path))\n",
    "                plt.show()\n",
    "                print(image_path)\n",
    "\n",
    "                print(microcyst_path)\n",
    "                \n"
   ]
  },
  {
   "cell_type": "code",
   "execution_count": null,
   "metadata": {},
   "outputs": [],
   "source": []
  }
 ],
 "metadata": {
  "kernelspec": {
   "display_name": "Python 3 (ipykernel)",
   "language": "python",
   "name": "python3"
  },
  "language_info": {
   "codemirror_mode": {
    "name": "ipython",
    "version": 3
   },
   "file_extension": ".py",
   "mimetype": "text/x-python",
   "name": "python",
   "nbconvert_exporter": "python",
   "pygments_lexer": "ipython3",
   "version": "3.8.10"
  }
 },
 "nbformat": 4,
 "nbformat_minor": 4
}
